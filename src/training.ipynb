{
 "cells": [
  {
   "cell_type": "markdown",
   "metadata": {},
   "source": [
    "# Training \n"
   ]
  },
  {
   "cell_type": "code",
   "execution_count": 3,
   "metadata": {},
   "outputs": [
    {
     "name": "stderr",
     "output_type": "stream",
     "text": [
      "/opt/anaconda3/lib/python3.7/site-packages/ipykernel_launcher.py:19: DeprecationWarning: `set_matplotlib_formats` is deprecated since IPython 7.23, directly use `matplotlib_inline.backend_inline.set_matplotlib_formats()`\n"
     ]
    }
   ],
   "source": [
    "import numpy as np\n",
    "import pandas as pd\n",
    "import os\n",
    "import sys  \n",
    "sys.path.append(\".\")\n",
    "import data_cleaning\n",
    "\n",
    "# deep learning\n",
    "import torch\n",
    "import torchvision\n",
    "import torch.nn as nn\n",
    "from torchvision import transforms\n",
    "\n",
    "# plotting\n",
    "import matplotlib.pyplot as plt\n",
    "%matplotlib inline\n",
    "# produce vector inline graphics\n",
    "from IPython.display import set_matplotlib_formats\n",
    "set_matplotlib_formats('pdf', 'svg')"
   ]
  },
  {
   "cell_type": "markdown",
   "metadata": {},
   "source": [
    "# Setup"
   ]
  },
  {
   "cell_type": "code",
   "execution_count": 4,
   "metadata": {},
   "outputs": [
    {
     "name": "stdout",
     "output_type": "stream",
     "text": [
      "1.13.1\n"
     ]
    }
   ],
   "source": [
    "# Check version of Pytorch\n",
    "print(torch. __version__)"
   ]
  },
  {
   "cell_type": "code",
   "execution_count": 5,
   "metadata": {},
   "outputs": [
    {
     "data": {
      "text/plain": [
       "'cpu'"
      ]
     },
     "execution_count": 5,
     "metadata": {},
     "output_type": "execute_result"
    }
   ],
   "source": [
    "device = \"cuda\" if torch.cuda.is_available() else \"cpu\"\n",
    "device"
   ]
  },
  {
   "cell_type": "markdown",
   "metadata": {},
   "source": [
    "# Data\n"
   ]
  },
  {
   "cell_type": "code",
   "execution_count": 6,
   "metadata": {},
   "outputs": [
    {
     "data": {
      "text/html": [
       "<div>\n",
       "<style scoped>\n",
       "    .dataframe tbody tr th:only-of-type {\n",
       "        vertical-align: middle;\n",
       "    }\n",
       "\n",
       "    .dataframe tbody tr th {\n",
       "        vertical-align: top;\n",
       "    }\n",
       "\n",
       "    .dataframe thead th {\n",
       "        text-align: right;\n",
       "    }\n",
       "</style>\n",
       "<table border=\"1\" class=\"dataframe\">\n",
       "  <thead>\n",
       "    <tr style=\"text-align: right;\">\n",
       "      <th></th>\n",
       "      <th>Brand_Name</th>\n",
       "      <th>Brand_ID</th>\n",
       "      <th>Model_Name</th>\n",
       "      <th>Model_ID</th>\n",
       "      <th>Bodytype</th>\n",
       "      <th>Launch_Year</th>\n",
       "      <th>Color</th>\n",
       "      <th>Advertiser_ID</th>\n",
       "      <th>Image_ID</th>\n",
       "      <th>file_path</th>\n",
       "    </tr>\n",
       "  </thead>\n",
       "  <tbody>\n",
       "    <tr>\n",
       "      <th>0</th>\n",
       "      <td>Abarth</td>\n",
       "      <td>2</td>\n",
       "      <td>124 Spider</td>\n",
       "      <td>2_1</td>\n",
       "      <td>Convertible</td>\n",
       "      <td>2017</td>\n",
       "      <td>Blue</td>\n",
       "      <td>1</td>\n",
       "      <td>image_1.jpg</td>\n",
       "      <td>Abarth$$124 Spider$$2017$$Blue$$2_1$$1$$image_...</td>\n",
       "    </tr>\n",
       "    <tr>\n",
       "      <th>1</th>\n",
       "      <td>Abarth</td>\n",
       "      <td>2</td>\n",
       "      <td>124 Spider</td>\n",
       "      <td>2_1</td>\n",
       "      <td>Convertible</td>\n",
       "      <td>2017</td>\n",
       "      <td>Blue</td>\n",
       "      <td>10</td>\n",
       "      <td>image_11.jpg</td>\n",
       "      <td>Abarth$$124 Spider$$2017$$Blue$$2_1$$10$$image...</td>\n",
       "    </tr>\n",
       "    <tr>\n",
       "      <th>2</th>\n",
       "      <td>Abarth</td>\n",
       "      <td>2</td>\n",
       "      <td>124 Spider</td>\n",
       "      <td>2_1</td>\n",
       "      <td>Convertible</td>\n",
       "      <td>2017</td>\n",
       "      <td>Blue</td>\n",
       "      <td>10</td>\n",
       "      <td>image_16.jpg</td>\n",
       "      <td>Abarth$$124 Spider$$2017$$Blue$$2_1$$10$$image...</td>\n",
       "    </tr>\n",
       "    <tr>\n",
       "      <th>3</th>\n",
       "      <td>Abarth</td>\n",
       "      <td>2</td>\n",
       "      <td>124 Spider</td>\n",
       "      <td>2_1</td>\n",
       "      <td>Convertible</td>\n",
       "      <td>2017</td>\n",
       "      <td>Blue</td>\n",
       "      <td>10</td>\n",
       "      <td>image_18.jpg</td>\n",
       "      <td>Abarth$$124 Spider$$2017$$Blue$$2_1$$10$$image...</td>\n",
       "    </tr>\n",
       "    <tr>\n",
       "      <th>4</th>\n",
       "      <td>Abarth</td>\n",
       "      <td>2</td>\n",
       "      <td>124 Spider</td>\n",
       "      <td>2_1</td>\n",
       "      <td>Convertible</td>\n",
       "      <td>2017</td>\n",
       "      <td>Blue</td>\n",
       "      <td>10</td>\n",
       "      <td>image_2.jpg</td>\n",
       "      <td>Abarth$$124 Spider$$2017$$Blue$$2_1$$10$$image...</td>\n",
       "    </tr>\n",
       "    <tr>\n",
       "      <th>...</th>\n",
       "      <td>...</td>\n",
       "      <td>...</td>\n",
       "      <td>...</td>\n",
       "      <td>...</td>\n",
       "      <td>...</td>\n",
       "      <td>...</td>\n",
       "      <td>...</td>\n",
       "      <td>...</td>\n",
       "      <td>...</td>\n",
       "      <td>...</td>\n",
       "    </tr>\n",
       "    <tr>\n",
       "      <th>271369</th>\n",
       "      <td>Zenos</td>\n",
       "      <td>99</td>\n",
       "      <td>E10</td>\n",
       "      <td>99_1</td>\n",
       "      <td>Convertible</td>\n",
       "      <td>2016</td>\n",
       "      <td>Grey</td>\n",
       "      <td>3</td>\n",
       "      <td>image_7.jpg</td>\n",
       "      <td>Zenos$$E10$$2016$$Grey$$99_1$$3$$image_7.jpg</td>\n",
       "    </tr>\n",
       "    <tr>\n",
       "      <th>271370</th>\n",
       "      <td>Zenos</td>\n",
       "      <td>99</td>\n",
       "      <td>E10</td>\n",
       "      <td>99_1</td>\n",
       "      <td>Convertible</td>\n",
       "      <td>2016</td>\n",
       "      <td>Red</td>\n",
       "      <td>1</td>\n",
       "      <td>image_0.jpg</td>\n",
       "      <td>Zenos$$E10$$2016$$Red$$99_1$$1$$image_0.jpg</td>\n",
       "    </tr>\n",
       "    <tr>\n",
       "      <th>271371</th>\n",
       "      <td>Zenos</td>\n",
       "      <td>99</td>\n",
       "      <td>E10</td>\n",
       "      <td>99_1</td>\n",
       "      <td>Convertible</td>\n",
       "      <td>2016</td>\n",
       "      <td>Red</td>\n",
       "      <td>1</td>\n",
       "      <td>image_3.jpg</td>\n",
       "      <td>Zenos$$E10$$2016$$Red$$99_1$$1$$image_3.jpg</td>\n",
       "    </tr>\n",
       "    <tr>\n",
       "      <th>271372</th>\n",
       "      <td>Zenos</td>\n",
       "      <td>99</td>\n",
       "      <td>E10</td>\n",
       "      <td>99_1</td>\n",
       "      <td>Convertible</td>\n",
       "      <td>2016</td>\n",
       "      <td>Red</td>\n",
       "      <td>1</td>\n",
       "      <td>image_4.jpg</td>\n",
       "      <td>Zenos$$E10$$2016$$Red$$99_1$$1$$image_4.jpg</td>\n",
       "    </tr>\n",
       "    <tr>\n",
       "      <th>271373</th>\n",
       "      <td>Zenos</td>\n",
       "      <td>99</td>\n",
       "      <td>E10</td>\n",
       "      <td>99_1</td>\n",
       "      <td>Convertible</td>\n",
       "      <td>2016</td>\n",
       "      <td>Red</td>\n",
       "      <td>1</td>\n",
       "      <td>image_5.jpg</td>\n",
       "      <td>Zenos$$E10$$2016$$Red$$99_1$$1$$image_5.jpg</td>\n",
       "    </tr>\n",
       "  </tbody>\n",
       "</table>\n",
       "<p>271374 rows × 10 columns</p>\n",
       "</div>"
      ],
      "text/plain": [
       "       Brand_Name  Brand_ID  Model_Name Model_ID     Bodytype  Launch_Year  \\\n",
       "0          Abarth         2  124 Spider      2_1  Convertible         2017   \n",
       "1          Abarth         2  124 Spider      2_1  Convertible         2017   \n",
       "2          Abarth         2  124 Spider      2_1  Convertible         2017   \n",
       "3          Abarth         2  124 Spider      2_1  Convertible         2017   \n",
       "4          Abarth         2  124 Spider      2_1  Convertible         2017   \n",
       "...           ...       ...         ...      ...          ...          ...   \n",
       "271369      Zenos        99         E10     99_1  Convertible         2016   \n",
       "271370      Zenos        99         E10     99_1  Convertible         2016   \n",
       "271371      Zenos        99         E10     99_1  Convertible         2016   \n",
       "271372      Zenos        99         E10     99_1  Convertible         2016   \n",
       "271373      Zenos        99         E10     99_1  Convertible         2016   \n",
       "\n",
       "       Color  Advertiser_ID      Image_ID  \\\n",
       "0       Blue              1   image_1.jpg   \n",
       "1       Blue             10  image_11.jpg   \n",
       "2       Blue             10  image_16.jpg   \n",
       "3       Blue             10  image_18.jpg   \n",
       "4       Blue             10   image_2.jpg   \n",
       "...      ...            ...           ...   \n",
       "271369  Grey              3   image_7.jpg   \n",
       "271370   Red              1   image_0.jpg   \n",
       "271371   Red              1   image_3.jpg   \n",
       "271372   Red              1   image_4.jpg   \n",
       "271373   Red              1   image_5.jpg   \n",
       "\n",
       "                                                file_path  \n",
       "0       Abarth$$124 Spider$$2017$$Blue$$2_1$$1$$image_...  \n",
       "1       Abarth$$124 Spider$$2017$$Blue$$2_1$$10$$image...  \n",
       "2       Abarth$$124 Spider$$2017$$Blue$$2_1$$10$$image...  \n",
       "3       Abarth$$124 Spider$$2017$$Blue$$2_1$$10$$image...  \n",
       "4       Abarth$$124 Spider$$2017$$Blue$$2_1$$10$$image...  \n",
       "...                                                   ...  \n",
       "271369       Zenos$$E10$$2016$$Grey$$99_1$$3$$image_7.jpg  \n",
       "271370        Zenos$$E10$$2016$$Red$$99_1$$1$$image_0.jpg  \n",
       "271371        Zenos$$E10$$2016$$Red$$99_1$$1$$image_3.jpg  \n",
       "271372        Zenos$$E10$$2016$$Red$$99_1$$1$$image_4.jpg  \n",
       "271373        Zenos$$E10$$2016$$Red$$99_1$$1$$image_5.jpg  \n",
       "\n",
       "[271374 rows x 10 columns]"
      ]
     },
     "execution_count": 6,
     "metadata": {},
     "output_type": "execute_result"
    }
   ],
   "source": [
    "## training data images\n",
    "image_dir = \"../data/confirmed_fronts\" # + brand name + year + image_name\n",
    "\n",
    "\n",
    "##  Training data tabular\n",
    "data = pd.read_csv(\"../data/tables/features.csv\")\n",
    "data"
   ]
  },
  {
   "cell_type": "markdown",
   "metadata": {},
   "source": [
    "## training data (70%), validation set (10%), test data (20%)"
   ]
  },
  {
   "cell_type": "code",
   "execution_count": 62,
   "metadata": {},
   "outputs": [],
   "source": [
    "seed = 384\n",
    "rng = np.random.default_rng(seed)\n",
    "\n",
    "# we need to make sure that images of a car model (specified by Model_ID and launch_year) are not distributed over training, validation and test dataset when splitting. \n",
    "\n",
    "# subset dataframe by car model (specified by launch_year and model_id) and find unique combinations and then sample accordingly\n",
    "unique_cars = data[[\"Model_ID\", \"Launch_Year\"]].drop_duplicates()\n",
    "\n",
    "# draw random indices according to splits from unique cars\n",
    "rand_nums = rng.uniform(size = len(unique_cars))\n",
    "msk_train = rand_nums < 0.7 # draws random numbers from uniform distribution, 70%\n",
    "\n",
    "\n",
    "msk_val_test = ~msk_train # complement\n",
    "\n",
    "# subset unique cars by indices\n",
    "msk_val = rand_nums >= 0.9 # 10%\n",
    "\n",
    "#msk_test = ~msk_val & ~msk_train #  20%\n",
    "msk_test = (rand_nums > 0.7) & (rand_nums < 0.9)\n",
    "\n",
    "# test if all datasets only contain unique cars\n",
    "assert not (np.any(msk_val_test & msk_train))\n",
    "assert not (np.any(msk_val & msk_test))\n",
    "\n",
    "\n",
    "# slice unique cars with datamasks \n",
    "train_cars_df = unique_cars[msk_train]\n",
    "test_cars_df = unique_cars[msk_test]\n",
    "val_cars_df = unique_cars[msk_val]\n",
    "\n",
    "# check unique cars len is equal to the sum of its sub dfs\n",
    "assert len(val_cars_df) + len(test_cars_df) + len(train_cars_df) == len(unique_cars)\n",
    "\n",
    "# complement unique cars per dataset with corresponding rows (launchyear, model id) from features df\n",
    "# train_df = data.loc[((data['Launch_Year'].isin(train_cars_df['Launch_Year'])) & data['Model_ID'].isin(train_cars_df['Model_ID']))]\n",
    "\n",
    "# test_df = data.loc[((data['Launch_Year'].isin(test_cars_df['Launch_Year'])) & data['Model_ID'].isin(test_cars_df['Model_ID']))]\n",
    "\n",
    "# val_df = data.loc[((data['Launch_Year'].isin(val_cars_df['Launch_Year'])) & data['Model_ID'].isin(val_cars_df['Model_ID']))]\n",
    "\n",
    "\n",
    "#df[df[['a', 'b']].apply(tuple, axis=1).isin([(1,2), (4,3)])]\n",
    "train_df = data[data[['Launch_Year', 'Model_ID']].apply(tuple, axis=1).isin(train_cars_df[['Launch_Year', 'Model_ID']].apply(tuple, axis=1))]\n",
    "\n",
    "val_df = data[data[['Launch_Year', 'Model_ID']].apply(tuple, axis=1).isin(val_cars_df[['Launch_Year', 'Model_ID']].apply(tuple, axis=1))]\n",
    "\n",
    "test_df = data[data[['Launch_Year', 'Model_ID']].apply(tuple, axis=1).isin(test_cars_df[['Launch_Year', 'Model_ID']].apply(tuple, axis=1))]\n",
    "\n",
    "# check if len of entire data set is equal to sum of test, train and val dataset\n",
    "assert len(test_df) + len(train_df) + len(val_df) == len(data)"
   ]
  },
  {
   "cell_type": "code",
   "execution_count": 52,
   "metadata": {},
   "outputs": [
    {
     "data": {
      "text/plain": [
       "0         True\n",
       "1         True\n",
       "2         True\n",
       "3         True\n",
       "4         True\n",
       "          ... \n",
       "271369    True\n",
       "271370    True\n",
       "271371    True\n",
       "271372    True\n",
       "271373    True\n",
       "Name: Launch_Year, Length: 271374, dtype: bool"
      ]
     },
     "execution_count": 52,
     "metadata": {},
     "output_type": "execute_result"
    }
   ],
   "source": [
    "data['Launch_Year'].isin(train_cars_df['Launch_Year'])\n"
   ]
  },
  {
   "cell_type": "markdown",
   "metadata": {},
   "source": [
    "## Model"
   ]
  },
  {
   "cell_type": "markdown",
   "metadata": {},
   "source": [
    "## loss function"
   ]
  },
  {
   "cell_type": "markdown",
   "metadata": {},
   "source": [
    "## optimizer"
   ]
  },
  {
   "cell_type": "markdown",
   "metadata": {},
   "source": [
    "##  training\n"
   ]
  },
  {
   "cell_type": "markdown",
   "metadata": {},
   "source": [
    "##  evaluation"
   ]
  },
  {
   "cell_type": "markdown",
   "metadata": {},
   "source": []
  }
 ],
 "metadata": {
  "kernelspec": {
   "display_name": "base",
   "language": "python",
   "name": "python3"
  },
  "language_info": {
   "codemirror_mode": {
    "name": "ipython",
    "version": 3
   },
   "file_extension": ".py",
   "mimetype": "text/x-python",
   "name": "python",
   "nbconvert_exporter": "python",
   "pygments_lexer": "ipython3",
   "version": "3.7.11"
  }
 },
 "nbformat": 4,
 "nbformat_minor": 2
}
